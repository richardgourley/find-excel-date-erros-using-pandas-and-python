{
 "cells": [
  {
   "cell_type": "code",
   "execution_count": 18,
   "id": "400310fe",
   "metadata": {},
   "outputs": [],
   "source": [
    "# This is to create a 2000 row data frame with purposefully incorrect date types in the date column."
   ]
  },
  {
   "cell_type": "markdown",
   "id": "3e397839",
   "metadata": {},
   "source": [
    "## Import Pandas, Numpy and DateTime"
   ]
  },
  {
   "cell_type": "code",
   "execution_count": 19,
   "id": "07fb2fb1",
   "metadata": {},
   "outputs": [],
   "source": [
    "import pandas as pd"
   ]
  },
  {
   "cell_type": "code",
   "execution_count": 20,
   "id": "6459c07b",
   "metadata": {},
   "outputs": [],
   "source": [
    "import numpy as np"
   ]
  },
  {
   "cell_type": "code",
   "execution_count": 21,
   "id": "9a25f628",
   "metadata": {},
   "outputs": [],
   "source": [
    "from datetime import datetime"
   ]
  },
  {
   "cell_type": "markdown",
   "id": "9d017d55",
   "metadata": {},
   "source": [
    "## Create lists of First Names and Surname Initials"
   ]
  },
  {
   "cell_type": "code",
   "execution_count": 22,
   "id": "5cdc28ea",
   "metadata": {},
   "outputs": [],
   "source": [
    "# List of first_names and list of surname_initials \n",
    "first_names = [\"Bob\",\"Brian\",\"Betty\",\"Barbara\",\"Clive\",\"Colin\",\"David\",\"Deborah\",\"Dominic\",\"Elena\",\"Erika\",\"Ernie\",\n",
    "             \"Frank\",\"Geraldine\",\"Harry\",\"Helen\",\"Julia\",\"Karen\",\"Karly\",\"Katie\",\"Paul\",\"Sonny\",\"Mo\",\"Yvette\"]\n",
    "surname_initials = [\"A\",\"B\",\"C\",\"D\",\"E\",\"F\",\"G\",\"H\",\"I\",\"J\",\"K\",\"L\",\"M\",\"N\",\"O\",\"P\",\"Q\",\"R\",\"S\",\"T\",\n",
    "              \"U\",\"V\",\"W\",\"X\",\"Y\",\"Z\"]"
   ]
  },
  {
   "cell_type": "code",
   "execution_count": 23,
   "id": "3dec8af7",
   "metadata": {},
   "outputs": [],
   "source": [
    "# Create a list of numbers between 0 and array lengths, 2000 times (creating 2000 rows)\n",
    "random_nums_first_names = np.random.randint(0,len(first_names), size=2000)\n",
    "random_nums_surname_initials = np.random.randint(0,len(surname_initials), size=2000)"
   ]
  },
  {
   "cell_type": "code",
   "execution_count": 24,
   "id": "4e243be6",
   "metadata": {},
   "outputs": [],
   "source": [
    "# Append first_names[n] with n being each number from our 2000 random numbers\n",
    "first_names_list = list()\n",
    "for n in random_nums_first_names:\n",
    "    first_names_list.append(first_names[n])"
   ]
  },
  {
   "cell_type": "code",
   "execution_count": 25,
   "id": "f6812ea0",
   "metadata": {},
   "outputs": [],
   "source": [
    "# Append surname_initials[n] with n being each number from our 2000 random numbers\n",
    "surname_initials_list = list()\n",
    "for s in random_nums_surname_initials:\n",
    "    surname_initials_list.append(surname_initials[s])"
   ]
  },
  {
   "cell_type": "markdown",
   "id": "a14da74e",
   "metadata": {},
   "source": [
    "## Create and Populate Name Columns"
   ]
  },
  {
   "cell_type": "code",
   "execution_count": 26,
   "id": "b5c54b2d",
   "metadata": {},
   "outputs": [
    {
     "data": {
      "text/html": [
       "<div>\n",
       "<style scoped>\n",
       "    .dataframe tbody tr th:only-of-type {\n",
       "        vertical-align: middle;\n",
       "    }\n",
       "\n",
       "    .dataframe tbody tr th {\n",
       "        vertical-align: top;\n",
       "    }\n",
       "\n",
       "    .dataframe thead th {\n",
       "        text-align: right;\n",
       "    }\n",
       "</style>\n",
       "<table border=\"1\" class=\"dataframe\">\n",
       "  <thead>\n",
       "    <tr style=\"text-align: right;\">\n",
       "      <th></th>\n",
       "      <th>First Name</th>\n",
       "      <th>Surname Initial</th>\n",
       "    </tr>\n",
       "  </thead>\n",
       "  <tbody>\n",
       "  </tbody>\n",
       "</table>\n",
       "</div>"
      ],
      "text/plain": [
       "Empty DataFrame\n",
       "Columns: [First Name, Surname Initial]\n",
       "Index: []"
      ]
     },
     "execution_count": 26,
     "metadata": {},
     "output_type": "execute_result"
    }
   ],
   "source": [
    "# Create our data frame columns\n",
    "df = pd.DataFrame(columns=['First Name', 'Surname Initial'])\n",
    "df"
   ]
  },
  {
   "cell_type": "code",
   "execution_count": 27,
   "id": "a7edc08e",
   "metadata": {},
   "outputs": [
    {
     "data": {
      "text/html": [
       "<div>\n",
       "<style scoped>\n",
       "    .dataframe tbody tr th:only-of-type {\n",
       "        vertical-align: middle;\n",
       "    }\n",
       "\n",
       "    .dataframe tbody tr th {\n",
       "        vertical-align: top;\n",
       "    }\n",
       "\n",
       "    .dataframe thead th {\n",
       "        text-align: right;\n",
       "    }\n",
       "</style>\n",
       "<table border=\"1\" class=\"dataframe\">\n",
       "  <thead>\n",
       "    <tr style=\"text-align: right;\">\n",
       "      <th></th>\n",
       "      <th>First Name</th>\n",
       "      <th>Surname Initial</th>\n",
       "    </tr>\n",
       "  </thead>\n",
       "  <tbody>\n",
       "    <tr>\n",
       "      <th>0</th>\n",
       "      <td>Elena</td>\n",
       "      <td>U</td>\n",
       "    </tr>\n",
       "    <tr>\n",
       "      <th>1</th>\n",
       "      <td>Ernie</td>\n",
       "      <td>P</td>\n",
       "    </tr>\n",
       "    <tr>\n",
       "      <th>2</th>\n",
       "      <td>Deborah</td>\n",
       "      <td>G</td>\n",
       "    </tr>\n",
       "    <tr>\n",
       "      <th>3</th>\n",
       "      <td>Barbara</td>\n",
       "      <td>P</td>\n",
       "    </tr>\n",
       "    <tr>\n",
       "      <th>4</th>\n",
       "      <td>David</td>\n",
       "      <td>F</td>\n",
       "    </tr>\n",
       "    <tr>\n",
       "      <th>...</th>\n",
       "      <td>...</td>\n",
       "      <td>...</td>\n",
       "    </tr>\n",
       "    <tr>\n",
       "      <th>1995</th>\n",
       "      <td>Karly</td>\n",
       "      <td>U</td>\n",
       "    </tr>\n",
       "    <tr>\n",
       "      <th>1996</th>\n",
       "      <td>Geraldine</td>\n",
       "      <td>K</td>\n",
       "    </tr>\n",
       "    <tr>\n",
       "      <th>1997</th>\n",
       "      <td>Deborah</td>\n",
       "      <td>M</td>\n",
       "    </tr>\n",
       "    <tr>\n",
       "      <th>1998</th>\n",
       "      <td>Clive</td>\n",
       "      <td>P</td>\n",
       "    </tr>\n",
       "    <tr>\n",
       "      <th>1999</th>\n",
       "      <td>Bob</td>\n",
       "      <td>D</td>\n",
       "    </tr>\n",
       "  </tbody>\n",
       "</table>\n",
       "<p>2000 rows × 2 columns</p>\n",
       "</div>"
      ],
      "text/plain": [
       "     First Name Surname Initial\n",
       "0         Elena               U\n",
       "1         Ernie               P\n",
       "2       Deborah               G\n",
       "3       Barbara               P\n",
       "4         David               F\n",
       "...         ...             ...\n",
       "1995      Karly               U\n",
       "1996  Geraldine               K\n",
       "1997    Deborah               M\n",
       "1998      Clive               P\n",
       "1999        Bob               D\n",
       "\n",
       "[2000 rows x 2 columns]"
      ]
     },
     "execution_count": 27,
     "metadata": {},
     "output_type": "execute_result"
    }
   ],
   "source": [
    "# Add the 2000 long list of first names and surname initials created above\n",
    "df['First Name'] = first_names_list\n",
    "df['Surname Initial'] = surname_initials_list\n",
    "\n",
    "df"
   ]
  },
  {
   "cell_type": "markdown",
   "id": "5cef81e0",
   "metadata": {},
   "source": [
    "## Create Random Dates List"
   ]
  },
  {
   "cell_type": "code",
   "execution_count": 28,
   "id": "62f0d23a",
   "metadata": {},
   "outputs": [],
   "source": [
    "# Create 2000 random dates\n",
    "# Create a random month (1-12), random day (1-31 depending on month) and random year from a list of 'years'\n",
    "random_dates = list()\n",
    "for i in range(0,2000):\n",
    "    rand_month = np.random.randint(1,12)\n",
    "    \n",
    "    # rand_day range depends on how many days in each month\n",
    "    if rand_month == 2:\n",
    "        rand_day = np.random.randint(1,28)\n",
    "    elif rand_month in (4,6,9,11):\n",
    "        rand_day = np.random.randint(1,30)\n",
    "    else:\n",
    "        rand_day = np.random.randint(1,31)\n",
    "        \n",
    "    # list of years\n",
    "    years = [2015,2016,2017,2018,2019,2021]\n",
    "    rand_year = years[np.random.randint(0,len(years))]\n",
    "\n",
    "    # Append the rand_year, rand_month, rand_day as a datetime object\n",
    "    random_dates.append(datetime(rand_year,rand_month,rand_day))"
   ]
  },
  {
   "cell_type": "markdown",
   "id": "41f3d967",
   "metadata": {},
   "source": [
    "## Populate Date Started Column"
   ]
  },
  {
   "cell_type": "code",
   "execution_count": null,
   "id": "4e833e5b",
   "metadata": {},
   "outputs": [],
   "source": [
    "# Create a new column - filled with the 2000 random dates\n",
    "df['Date Started'] = random_dates"
   ]
  },
  {
   "cell_type": "code",
   "execution_count": 30,
   "id": "a56de92b",
   "metadata": {},
   "outputs": [
    {
     "data": {
      "text/html": [
       "<div>\n",
       "<style scoped>\n",
       "    .dataframe tbody tr th:only-of-type {\n",
       "        vertical-align: middle;\n",
       "    }\n",
       "\n",
       "    .dataframe tbody tr th {\n",
       "        vertical-align: top;\n",
       "    }\n",
       "\n",
       "    .dataframe thead th {\n",
       "        text-align: right;\n",
       "    }\n",
       "</style>\n",
       "<table border=\"1\" class=\"dataframe\">\n",
       "  <thead>\n",
       "    <tr style=\"text-align: right;\">\n",
       "      <th></th>\n",
       "      <th>First Name</th>\n",
       "      <th>Surname Initial</th>\n",
       "      <th>Date Started</th>\n",
       "    </tr>\n",
       "  </thead>\n",
       "  <tbody>\n",
       "    <tr>\n",
       "      <th>0</th>\n",
       "      <td>Elena</td>\n",
       "      <td>U</td>\n",
       "      <td>2016-06-12</td>\n",
       "    </tr>\n",
       "    <tr>\n",
       "      <th>1</th>\n",
       "      <td>Ernie</td>\n",
       "      <td>P</td>\n",
       "      <td>2016-08-27</td>\n",
       "    </tr>\n",
       "    <tr>\n",
       "      <th>2</th>\n",
       "      <td>Deborah</td>\n",
       "      <td>G</td>\n",
       "      <td>2017-03-07</td>\n",
       "    </tr>\n",
       "    <tr>\n",
       "      <th>3</th>\n",
       "      <td>Barbara</td>\n",
       "      <td>P</td>\n",
       "      <td>2021-08-27</td>\n",
       "    </tr>\n",
       "    <tr>\n",
       "      <th>4</th>\n",
       "      <td>David</td>\n",
       "      <td>F</td>\n",
       "      <td>2016-03-25</td>\n",
       "    </tr>\n",
       "    <tr>\n",
       "      <th>...</th>\n",
       "      <td>...</td>\n",
       "      <td>...</td>\n",
       "      <td>...</td>\n",
       "    </tr>\n",
       "    <tr>\n",
       "      <th>1995</th>\n",
       "      <td>Karly</td>\n",
       "      <td>U</td>\n",
       "      <td>2017-07-13</td>\n",
       "    </tr>\n",
       "    <tr>\n",
       "      <th>1996</th>\n",
       "      <td>Geraldine</td>\n",
       "      <td>K</td>\n",
       "      <td>2017-05-10</td>\n",
       "    </tr>\n",
       "    <tr>\n",
       "      <th>1997</th>\n",
       "      <td>Deborah</td>\n",
       "      <td>M</td>\n",
       "      <td>2015-04-13</td>\n",
       "    </tr>\n",
       "    <tr>\n",
       "      <th>1998</th>\n",
       "      <td>Clive</td>\n",
       "      <td>P</td>\n",
       "      <td>2015-07-02</td>\n",
       "    </tr>\n",
       "    <tr>\n",
       "      <th>1999</th>\n",
       "      <td>Bob</td>\n",
       "      <td>D</td>\n",
       "      <td>2019-03-18</td>\n",
       "    </tr>\n",
       "  </tbody>\n",
       "</table>\n",
       "<p>2000 rows × 3 columns</p>\n",
       "</div>"
      ],
      "text/plain": [
       "     First Name Surname Initial Date Started\n",
       "0         Elena               U   2016-06-12\n",
       "1         Ernie               P   2016-08-27\n",
       "2       Deborah               G   2017-03-07\n",
       "3       Barbara               P   2021-08-27\n",
       "4         David               F   2016-03-25\n",
       "...         ...             ...          ...\n",
       "1995      Karly               U   2017-07-13\n",
       "1996  Geraldine               K   2017-05-10\n",
       "1997    Deborah               M   2015-04-13\n",
       "1998      Clive               P   2015-07-02\n",
       "1999        Bob               D   2019-03-18\n",
       "\n",
       "[2000 rows x 3 columns]"
      ]
     },
     "execution_count": 30,
     "metadata": {},
     "output_type": "execute_result"
    }
   ],
   "source": [
    "df"
   ]
  },
  {
   "cell_type": "markdown",
   "id": "00bf9848",
   "metadata": {},
   "source": [
    "## Randomly Populate Date Started data with Incorrect Types"
   ]
  },
  {
   "cell_type": "code",
   "execution_count": 31,
   "id": "7bf9dbfd",
   "metadata": {},
   "outputs": [
    {
     "name": "stdout",
     "output_type": "stream",
     "text": [
      "Row number 1523\n",
      "a string not a datetime date\n",
      "Row number 1833\n",
      "a string not a datetime date\n",
      "Row number 152\n",
      "a string not a datetime date\n",
      "Row number 436\n",
      "a string not a datetime date\n",
      "Row number 722\n",
      "a string not a datetime date\n",
      "Row number 1637\n",
      "a string not a datetime date\n"
     ]
    }
   ],
   "source": [
    "# Random list of row numbers where we replace the datetime object with a string\n",
    "row_nums = np.random.randint(0,2000,size=6)\n",
    "for n in row_nums:\n",
    "    df.at[n, 'Date Started'] = 'a string not a datetime date'\n",
    "\n",
    "# Check random rows contain a string\n",
    "for n in row_nums:\n",
    "    print(f\"Row number {n}\")\n",
    "    print(df.at[n, 'Date Started'])\n"
   ]
  },
  {
   "cell_type": "code",
   "execution_count": 32,
   "id": "41bdcc93",
   "metadata": {},
   "outputs": [
    {
     "name": "stdout",
     "output_type": "stream",
     "text": [
      "Row number 132\n",
      "\n",
      "Row number 1104\n",
      "\n",
      "Row number 327\n",
      "\n",
      "Row number 984\n",
      "\n",
      "Row number 1374\n",
      "\n",
      "Row number 1661\n",
      "\n"
     ]
    }
   ],
   "source": [
    "# Random list of row numbers where we replace the datetime object with an empty string\n",
    "row_nums = np.random.randint(0,2000,size=6)\n",
    "for n in row_nums:\n",
    "    df.at[n, 'Date Started'] = ''\n",
    "\n",
    "# Check random rows contain an empty string\n",
    "for n in row_nums:\n",
    "    print(f\"Row number {n}\")\n",
    "    print(df.at[n, 'Date Started'])"
   ]
  },
  {
   "cell_type": "code",
   "execution_count": 33,
   "id": "0d3406da",
   "metadata": {},
   "outputs": [
    {
     "name": "stdout",
     "output_type": "stream",
     "text": [
      "Row number 182\n",
      "52\n",
      "Row number 857\n",
      "52\n",
      "Row number 1679\n",
      "52\n",
      "Row number 407\n",
      "52\n",
      "Row number 395\n",
      "52\n",
      "Row number 343\n",
      "52\n"
     ]
    }
   ],
   "source": [
    "# Random list of row numbers where we replace the datetime object with an integer\n",
    "row_nums = np.random.randint(0,2000,size=6)\n",
    "for n in row_nums:\n",
    "    df.at[n, 'Date Started'] = 52\n",
    "\n",
    "# Check random rows contain an integer\n",
    "for n in row_nums:\n",
    "    print(f\"Row number {n}\")\n",
    "    print(df.at[n, 'Date Started'])"
   ]
  },
  {
   "cell_type": "markdown",
   "id": "638de601",
   "metadata": {},
   "source": [
    "## Save File as a CSV file"
   ]
  },
  {
   "cell_type": "code",
   "execution_count": 34,
   "id": "29b6d014",
   "metadata": {},
   "outputs": [],
   "source": [
    "# Save our dataframe as a csv file to use in the file '2-create-invalid-dates-report.ipynb'\n",
    "df.to_csv('employees.csv')"
   ]
  }
 ],
 "metadata": {
  "kernelspec": {
   "display_name": "Python 3 (ipykernel)",
   "language": "python",
   "name": "python3"
  },
  "language_info": {
   "codemirror_mode": {
    "name": "ipython",
    "version": 3
   },
   "file_extension": ".py",
   "mimetype": "text/x-python",
   "name": "python",
   "nbconvert_exporter": "python",
   "pygments_lexer": "ipython3",
   "version": "3.9.7"
  }
 },
 "nbformat": 4,
 "nbformat_minor": 5
}
